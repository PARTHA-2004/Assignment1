{
 "cells": [
  {
   "cell_type": "markdown",
   "id": "b597d5c0-640f-496d-8af4-5a14f1869a75",
   "metadata": {},
   "source": [
    "Question 1: Write a program to accept percentage from the user and display the grade according to the following criteria."
   ]
  },
  {
   "cell_type": "code",
   "execution_count": 2,
   "id": "1ad3353d-2e08-4438-a2dd-030f42e7f57b",
   "metadata": {},
   "outputs": [
    {
     "name": "stdin",
     "output_type": "stream",
     "text": [
      "Enter your percentage=  78.08\n"
     ]
    },
    {
     "name": "stdout",
     "output_type": "stream",
     "text": [
      "Grade=C\n"
     ]
    }
   ],
   "source": [
    "mark = float(input(\"Enter your percentage= \"))\n",
    "if mark>90:\n",
    "    print(\"Grade=A\")\n",
    "elif mark>80 and mark<=90:\n",
    "    print(\"Grade=B\")\n",
    "elif mark>=60 and mark<=80:\n",
    "    print(\"Grade=C\")\n",
    "else:\n",
    "    print(\"Grade=D\")\n"
   ]
  },
  {
   "cell_type": "markdown",
   "id": "18a4dfd1-d092-4135-9c27-6c2b5dbc5434",
   "metadata": {},
   "source": [
    "Question 2: Write a program to accept the cost price of a bike and display the road tax to be paid according to following criteria."
   ]
  },
  {
   "cell_type": "code",
   "execution_count": 1,
   "id": "6e48d596-2075-4f3e-83c3-6724dd7722ea",
   "metadata": {},
   "outputs": [
    {
     "name": "stdin",
     "output_type": "stream",
     "text": [
      "Enter the cost price of your bike=  9000\n"
     ]
    },
    {
     "name": "stdout",
     "output_type": "stream",
     "text": [
      "Your road tax is =  450.0 Rs\n"
     ]
    }
   ],
   "source": [
    "price = float(input(\"Enter the cost price of your bike= \"))\n",
    "if price > 100000:\n",
    "    tax = price * 15/100\n",
    "elif price > 50000 and price <= 100000:\n",
    "    tax = price * 10/100\n",
    "else:\n",
    "    tax = price * 5/100\n",
    "print(\"Your road tax is = \",tax,\"Rs\")    \n"
   ]
  },
  {
   "cell_type": "markdown",
   "id": "cc53b7f4-b4e0-4186-a02c-8c7f6b050d3c",
   "metadata": {},
   "source": [
    "\n",
    "Question 3: Accept any city from the user and display monuments of that city.\n"
   ]
  },
  {
   "cell_type": "code",
   "execution_count": 13,
   "id": "44b97515-a52f-4b18-a141-0232402b2df3",
   "metadata": {},
   "outputs": [
    {
     "name": "stdin",
     "output_type": "stream",
     "text": [
      "Name of the city:- Jaipur\n"
     ]
    },
    {
     "name": "stdout",
     "output_type": "stream",
     "text": [
      "Monument is Jai Mahal\n"
     ]
    }
   ],
   "source": [
    "city = str(input(\"Name of the city:-\"))\n",
    "if city == \"Delhi\":\n",
    "    print(\"Monument is Red Fort\")\n",
    "elif city == \"Agra\":\n",
    "    print(\"Monument is Taj Mahal\")\n",
    "elif city == \"Jaipur\":\n",
    "    print(\"Monument is Jai Mahal\")\n",
    "else:\n",
    "    print(\"Your city is not available in our list\")"
   ]
  },
  {
   "cell_type": "markdown",
   "id": "acebd147-f452-40f3-83c9-cf5bc782bdb7",
   "metadata": {},
   "source": [
    "Question 4: Check how many times a given number can be devided by 3 before it is less than or equal to 10."
   ]
  },
  {
   "cell_type": "code",
   "execution_count": 1,
   "id": "0a8d3824-bf31-4855-b6d6-2699d1f87e48",
   "metadata": {},
   "outputs": [
    {
     "name": "stdin",
     "output_type": "stream",
     "text": [
      "enter a number:- 128\n"
     ]
    },
    {
     "name": "stdout",
     "output_type": "stream",
     "text": [
      "the count is : 3\n"
     ]
    }
   ],
   "source": [
    "number = int(input(\"enter a number:-\"))\n",
    "count = 0 \n",
    "while number >10:\n",
    "    number= number/3\n",
    "    count=count+1\n",
    "print(\"the count is :\", count)\n"
   ]
  },
  {
   "cell_type": "markdown",
   "id": "4fc607ca-9be2-403c-bf8b-b4b5ef60534f",
   "metadata": {},
   "source": [
    "Question 5: Why and when to use while loop in Python give a detailed description with example."
   ]
  },
  {
   "cell_type": "code",
   "execution_count": 2,
   "id": "37956e7b-84a9-41f2-b1e6-e7ac6e290d97",
   "metadata": {},
   "outputs": [
    {
     "name": "stdin",
     "output_type": "stream",
     "text": [
      "Enter your range:- 10\n"
     ]
    },
    {
     "name": "stdout",
     "output_type": "stream",
     "text": [
      "0\n",
      "1\n",
      "2\n",
      "3\n",
      "4\n",
      "5\n",
      "6\n",
      "7\n",
      "8\n",
      "9\n"
     ]
    }
   ],
   "source": [
    "#Ans:- You should use a while loop when you need to repeatedly execute a block of code as long as a certain condition is true.\n",
    "\n",
    "#Example:-\n",
    "n=int(input(\"Enter your range:-\"))\n",
    "count=0\n",
    "while count<n:\n",
    "    print(count)\n",
    "    count=count+1"
   ]
  },
  {
   "cell_type": "markdown",
   "id": "e6ae76e6-b2f6-400e-a11e-a659f5984f3a",
   "metadata": {},
   "source": [
    "Question:6 Use nested while loop to print 3 different parten."
   ]
  },
  {
   "cell_type": "code",
   "execution_count": 3,
   "id": "5faa8d02-7a25-4f50-9fa2-da936ca73b83",
   "metadata": {},
   "outputs": [
    {
     "name": "stdin",
     "output_type": "stream",
     "text": [
      "enter the number of rows 5\n"
     ]
    },
    {
     "name": "stdout",
     "output_type": "stream",
     "text": [
      "*  \n",
      "*  *  \n",
      "*  *  *  \n",
      "*  *  *  *  \n",
      "*  *  *  *  *  \n"
     ]
    }
   ],
   "source": [
    "# pattern 1 (right angle triangle shape)\n",
    "\n",
    "n=int(input(\"enter the number of rows\"))\n",
    "i=1\n",
    "while i<=n:\n",
    "    j=1\n",
    "    while j<=i:\n",
    "        print(\"*\", end = \"  \")\n",
    "        j=j+1\n",
    "    print()\n",
    "    i=i+1"
   ]
  },
  {
   "cell_type": "code",
   "execution_count": 4,
   "id": "8d38fad3-42d3-48aa-b4b5-28438f218010",
   "metadata": {},
   "outputs": [
    {
     "name": "stdin",
     "output_type": "stream",
     "text": [
      "enter the number of rows  6\n"
     ]
    },
    {
     "name": "stdout",
     "output_type": "stream",
     "text": [
      "*  *  *  *  *  *  \n",
      "*  *  *  *  *  \n",
      "*  *  *  *  \n",
      "*  *  *  \n",
      "*  *  \n",
      "*  \n"
     ]
    }
   ],
   "source": [
    "# pattern 2 : \n",
    " \n",
    "n=int(input(\"enter the number of rows \"))\n",
    "i=1\n",
    "while i<=n:\n",
    "    j=n\n",
    "    while j>=i:\n",
    "        print('*' , end = '  ')\n",
    "        j=j-1\n",
    "    print()\n",
    "    i=i+1"
   ]
  },
  {
   "cell_type": "code",
   "execution_count": null,
   "id": "c925b305-1a26-4fe2-9b8a-fb1758a083a0",
   "metadata": {},
   "outputs": [],
   "source": [
    "# pattern 3\n",
    "n =int(input(\"enter the number of rows\"))\n",
    "i=1\n",
    "k=1\n",
    "while i<=n:\n",
    "    j=1\n",
    "    while j<=i:\n",
    "        print(k, end=' ')\n",
    "        k=k+1\n",
    "        j=j+1\n",
    "    print()   \n",
    "    i=i+1"
   ]
  },
  {
   "cell_type": "markdown",
   "id": "722efda8-8dee-4d2a-93f3-21a869c6e40e",
   "metadata": {},
   "source": [
    "Question 7: Reverse a while loop to display numbers from 10 to 1"
   ]
  }
 ],
 "metadata": {
  "kernelspec": {
   "display_name": "Python 3 (ipykernel)",
   "language": "python",
   "name": "python3"
  },
  "language_info": {
   "codemirror_mode": {
    "name": "ipython",
    "version": 3
   },
   "file_extension": ".py",
   "mimetype": "text/x-python",
   "name": "python",
   "nbconvert_exporter": "python",
   "pygments_lexer": "ipython3",
   "version": "3.10.8"
  }
 },
 "nbformat": 4,
 "nbformat_minor": 5
}
